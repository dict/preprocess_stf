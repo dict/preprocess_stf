{
 "cells": [
  {
   "cell_type": "code",
   "execution_count": null,
   "metadata": {},
   "outputs": [],
   "source": [
    "# 피클과 동영상 갯수 맞춰보기\n",
    "from glob import glob\n",
    "from collections import Counter\n",
    "from IPython.display import HTML\n",
    "from pathlib import Path\n",
    "\n",
    "def display_video(p): \n",
    "    display(HTML(f\"\"\"<video src=\"{p}\" width=640 controls autoplay/>\"\"\"))\n",
    "\n",
    "#mp4s = sorted(glob('split_side/C0023*.mp4'))\n",
    "mp4s = sorted(glob('khd/clip/**/*.mp4', recursive=True))\n",
    "df_face   = glob(f'khd/df_info/df_face_info/*.pickle')\n",
    "df_anchor = glob(f'khd/df_info/df_anchor_i/*.pickle')\n",
    "\n",
    "print(f'df_face:{len(set(df_face))}, df_anchor:{len(set(df_anchor))}, mp4s:{len(set(mp4s))}')"
   ]
  },
  {
   "cell_type": "code",
   "execution_count": null,
   "metadata": {},
   "outputs": [],
   "source": [
    "# 두개 이상으로 분리된 영상 보기 \n",
    "df_anchor_names = [Path(e).stem.split('_')[0] for e in df_anchor]\n",
    "print(len(df_anchor_names))\n",
    "\n",
    "for k, v in Counter(df_anchor_names).items():\n",
    "    if v == 1:\n",
    "        continue\n",
    "    for d in [e for e in mp4s if Path(e).stem == k]:\n",
    "        print(d)\n",
    "        display_video(d)"
   ]
  },
  {
   "cell_type": "code",
   "execution_count": null,
   "metadata": {},
   "outputs": [],
   "source": [
    "# 결과 샘플 보기\n",
    "from pathlib import Path\n",
    "import imageio, cv2, random, pandas as pd\n",
    "from tqdm.auto import tqdm\n",
    "from moviepy.editor import ImageSequenceClip\n",
    "import os\n",
    "\n",
    "%pdb on\n",
    "sample_pickle = random.choice(df_anchor)\n",
    "#sample_pickle = 'df_anchor_i/Est_Soft_18_2.mov.13-23.ss-06-28.to-07-02_000.pickle'\n",
    "sample_mp4 = [f for f in mp4s if Path(f).stem == Path(sample_pickle).stem[:-4]][0]\n",
    "print(sample_pickle)\n",
    "print(sample_mp4)\n",
    "frames = imageio.mimread(sample_mp4, memtest=False)\n",
    "for p in [sample_pickle]:\n",
    "    df = pd.read_pickle(p)\n",
    "    print(p)\n",
    "    for _, row in tqdm(df.iterrows(), total=len(df)):\n",
    "        im = frames[row['frame_idx']]\n",
    "        x1, y1, x2, y2 = row['box']\n",
    "        cv2.rectangle(im, (x1, y1), (x2, y2), (255,0,0))\n",
    "    clip = ImageSequenceClip(frames, fps=30)\n",
    "    out_name = f'temp/{Path(p).name}.mp4'\n",
    "    os.makedirs(os.path.dirname(out_name), exist_ok=True)\n",
    "    clip.write_videofile(out_name)#, logger=None)\n",
    "    display_video(out_name)"
   ]
  },
  {
   "cell_type": "code",
   "execution_count": null,
   "metadata": {},
   "outputs": [],
   "source": []
  },
  {
   "cell_type": "code",
   "execution_count": null,
   "metadata": {},
   "outputs": [],
   "source": []
  }
 ],
 "metadata": {
  "kernelspec": {
   "display_name": "Python [conda env:lipgan2]",
   "language": "python",
   "name": "conda-env-lipgan2-py"
  },
  "language_info": {
   "codemirror_mode": {
    "name": "ipython",
    "version": 3
   },
   "file_extension": ".py",
   "mimetype": "text/x-python",
   "name": "python",
   "nbconvert_exporter": "python",
   "pygments_lexer": "ipython3",
   "version": "3.7.9"
  },
  "widgets": {
   "application/vnd.jupyter.widget-state+json": {
    "state": {
     "03f525626f1845c697f8b102f21686e5": {
      "model_module": "@jupyter-widgets/base",
      "model_module_version": "1.2.0",
      "model_name": "LayoutModel",
      "state": {}
     },
     "15792a534d3949a38714ca88c140d859": {
      "model_module": "@jupyter-widgets/controls",
      "model_module_version": "1.5.0",
      "model_name": "FloatProgressModel",
      "state": {
       "bar_style": "success",
       "description": "100%",
       "layout": "IPY_MODEL_52440e8b0e874331b20a98d95d2cadc0",
       "max": 565,
       "style": "IPY_MODEL_e3ad718e6ce04bfaaec3f3a5845a346d",
       "value": 565
      }
     },
     "31193232ad0d456a8d59ee8112b0a5f8": {
      "model_module": "@jupyter-widgets/controls",
      "model_module_version": "1.5.0",
      "model_name": "ProgressStyleModel",
      "state": {
       "description_width": "initial"
      }
     },
     "45d1d94d48174e35b303e656234d2c21": {
      "model_module": "@jupyter-widgets/controls",
      "model_module_version": "1.5.0",
      "model_name": "HTMLModel",
      "state": {
       "layout": "IPY_MODEL_eafdec0475a34da6895eca845c7e478a",
       "style": "IPY_MODEL_95d383a65ee84e28a200dadc7260e740",
       "value": " 496/496 [00:00&lt;00:00, 5886.23it/s]"
      }
     },
     "52440e8b0e874331b20a98d95d2cadc0": {
      "model_module": "@jupyter-widgets/base",
      "model_module_version": "1.2.0",
      "model_name": "LayoutModel",
      "state": {}
     },
     "5a246d74a631435db2105e398ce2065a": {
      "model_module": "@jupyter-widgets/controls",
      "model_module_version": "1.5.0",
      "model_name": "HBoxModel",
      "state": {
       "children": [
        "IPY_MODEL_ed014858b29c46f08afa820c87aa7c4f",
        "IPY_MODEL_8cfcbf4636264100a97da0dea0e09e7f"
       ],
       "layout": "IPY_MODEL_6c242a3d304d4b0db3950aca825a6d4c"
      }
     },
     "5b620bbe8afb4ca29d111234fdcb8e9e": {
      "model_module": "@jupyter-widgets/controls",
      "model_module_version": "1.5.0",
      "model_name": "HBoxModel",
      "state": {
       "children": [
        "IPY_MODEL_15792a534d3949a38714ca88c140d859",
        "IPY_MODEL_7b8180a5f0924377b8806f27fccef47b"
       ],
       "layout": "IPY_MODEL_92e9821231c14302880a48e9dd38c6d8"
      }
     },
     "6c242a3d304d4b0db3950aca825a6d4c": {
      "model_module": "@jupyter-widgets/base",
      "model_module_version": "1.2.0",
      "model_name": "LayoutModel",
      "state": {}
     },
     "7b8180a5f0924377b8806f27fccef47b": {
      "model_module": "@jupyter-widgets/controls",
      "model_module_version": "1.5.0",
      "model_name": "HTMLModel",
      "state": {
       "layout": "IPY_MODEL_03f525626f1845c697f8b102f21686e5",
       "style": "IPY_MODEL_87c2fcc56cfc4a5bacd2aa686f6ce888",
       "value": " 565/565 [00:00&lt;00:00, 5998.51it/s]"
      }
     },
     "87c2fcc56cfc4a5bacd2aa686f6ce888": {
      "model_module": "@jupyter-widgets/controls",
      "model_module_version": "1.5.0",
      "model_name": "DescriptionStyleModel",
      "state": {
       "description_width": ""
      }
     },
     "8cfcbf4636264100a97da0dea0e09e7f": {
      "model_module": "@jupyter-widgets/controls",
      "model_module_version": "1.5.0",
      "model_name": "HTMLModel",
      "state": {
       "layout": "IPY_MODEL_a8c680cb9e9146d2be75ee1d4c9cc01f",
       "style": "IPY_MODEL_b94ec99cc4c4499e81a390ed5c871ece",
       "value": " 662/662 [00:00&lt;00:00, 6660.44it/s]"
      }
     },
     "92e9821231c14302880a48e9dd38c6d8": {
      "model_module": "@jupyter-widgets/base",
      "model_module_version": "1.2.0",
      "model_name": "LayoutModel",
      "state": {}
     },
     "95d383a65ee84e28a200dadc7260e740": {
      "model_module": "@jupyter-widgets/controls",
      "model_module_version": "1.5.0",
      "model_name": "DescriptionStyleModel",
      "state": {
       "description_width": ""
      }
     },
     "a5bc41caa5e84cbaaed53a3a5d96d8da": {
      "model_module": "@jupyter-widgets/base",
      "model_module_version": "1.2.0",
      "model_name": "LayoutModel",
      "state": {}
     },
     "a8c680cb9e9146d2be75ee1d4c9cc01f": {
      "model_module": "@jupyter-widgets/base",
      "model_module_version": "1.2.0",
      "model_name": "LayoutModel",
      "state": {}
     },
     "a98e860f0d62429fbe8e18dcd27e0037": {
      "model_module": "@jupyter-widgets/base",
      "model_module_version": "1.2.0",
      "model_name": "LayoutModel",
      "state": {}
     },
     "b94ec99cc4c4499e81a390ed5c871ece": {
      "model_module": "@jupyter-widgets/controls",
      "model_module_version": "1.5.0",
      "model_name": "DescriptionStyleModel",
      "state": {
       "description_width": ""
      }
     },
     "bd1e0f4213d347c6b00a8f1faefbc757": {
      "model_module": "@jupyter-widgets/base",
      "model_module_version": "1.2.0",
      "model_name": "LayoutModel",
      "state": {}
     },
     "c861583d005d4ebe99fe9154c881b22d": {
      "model_module": "@jupyter-widgets/controls",
      "model_module_version": "1.5.0",
      "model_name": "ProgressStyleModel",
      "state": {
       "description_width": "initial"
      }
     },
     "c8b911c3619c46cdb7e88b4162f83c3a": {
      "model_module": "@jupyter-widgets/controls",
      "model_module_version": "1.5.0",
      "model_name": "FloatProgressModel",
      "state": {
       "bar_style": "success",
       "description": "100%",
       "layout": "IPY_MODEL_bd1e0f4213d347c6b00a8f1faefbc757",
       "max": 496,
       "style": "IPY_MODEL_31193232ad0d456a8d59ee8112b0a5f8",
       "value": 496
      }
     },
     "e3ad718e6ce04bfaaec3f3a5845a346d": {
      "model_module": "@jupyter-widgets/controls",
      "model_module_version": "1.5.0",
      "model_name": "ProgressStyleModel",
      "state": {
       "description_width": "initial"
      }
     },
     "e91dd7cf293e4b0d83fc371c73d8b26c": {
      "model_module": "@jupyter-widgets/controls",
      "model_module_version": "1.5.0",
      "model_name": "HBoxModel",
      "state": {
       "children": [
        "IPY_MODEL_c8b911c3619c46cdb7e88b4162f83c3a",
        "IPY_MODEL_45d1d94d48174e35b303e656234d2c21"
       ],
       "layout": "IPY_MODEL_a5bc41caa5e84cbaaed53a3a5d96d8da"
      }
     },
     "eafdec0475a34da6895eca845c7e478a": {
      "model_module": "@jupyter-widgets/base",
      "model_module_version": "1.2.0",
      "model_name": "LayoutModel",
      "state": {}
     },
     "ed014858b29c46f08afa820c87aa7c4f": {
      "model_module": "@jupyter-widgets/controls",
      "model_module_version": "1.5.0",
      "model_name": "FloatProgressModel",
      "state": {
       "bar_style": "success",
       "description": "100%",
       "layout": "IPY_MODEL_a98e860f0d62429fbe8e18dcd27e0037",
       "max": 662,
       "style": "IPY_MODEL_c861583d005d4ebe99fe9154c881b22d",
       "value": 662
      }
     }
    },
    "version_major": 2,
    "version_minor": 0
   }
  }
 },
 "nbformat": 4,
 "nbformat_minor": 4
}
