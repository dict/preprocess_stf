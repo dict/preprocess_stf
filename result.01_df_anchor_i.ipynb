{
 "cells": [
  {
   "cell_type": "code",
   "execution_count": 1,
   "metadata": {},
   "outputs": [],
   "source": [
    "from glob import glob\n",
    "import show_result\n",
    "from pathlib import Path\n",
    "import IPython.display as ipd\n",
    "import os"
   ]
  },
  {
   "cell_type": "markdown",
   "metadata": {},
   "source": [
    "## 피클과 동영상 갯수가 동일하고, 원하는 비디오 개수가 맞는지 확인합니다."
   ]
  },
  {
   "cell_type": "code",
   "execution_count": 2,
   "metadata": {},
   "outputs": [
    {
     "name": "stdout",
     "output_type": "stream",
     "text": [
      "df_face:10, df_anchor:10, mp4s:10\n"
     ]
    }
   ],
   "source": [
    "\n",
    "##################### 여기만 수정하시면 됩니다. ###################\n",
    "root = \"/data/home/snowyunee/dataset/pwb\"\n",
    "#################################################################\n",
    "\n",
    "mp4s = sorted(glob(f'{root}/clip/*.mp4', recursive=True))\n",
    "df_face   = glob(f'{root}/df_info/df_face_info/*.pickle')\n",
    "df_anchor = glob(f'{root}/df_info/df_anchor_i/*.pickle')\n",
    "\n",
    "print(f'df_face:{len(set(df_face))}, df_anchor:{len(set(df_anchor))}, mp4s:{len(set(mp4s))}')"
   ]
  },
  {
   "cell_type": "markdown",
   "metadata": {},
   "source": [
    "## 비디오를 몇개 샘플로 보면서 얼굴을 잘 잡고 있는지 봅니다."
   ]
  },
  {
   "cell_type": "code",
   "execution_count": 3,
   "metadata": {},
   "outputs": [
    {
     "name": "stdout",
     "output_type": "stream",
     "text": [
      "/data/home/snowyunee/dataset/pwb/df_info/df_anchor_i/05 #1 monday_003_000.pickle\n"
     ]
    },
    {
     "data": {
      "application/vnd.jupyter.widget-view+json": {
       "model_id": "10f3ea0782ab42a9b27b178baaa26457",
       "version_major": 2,
       "version_minor": 0
      },
      "text/plain": [
       "read and write:   0%|          | 0/1032 [00:00<?, ?it/s]"
      ]
     },
     "metadata": {},
     "output_type": "display_data"
    },
    {
     "name": "stdout",
     "output_type": "stream",
     "text": [
      "temp/05 #1 monday_003_000.pickle.mp4\n"
     ]
    },
    {
     "data": {
      "text/html": [
       "<video src = \"temp/05 #1 monday_003_000.pickle.mp4\" width=800 playbackspeed=1.5 controls autoplay/>"
      ],
      "text/plain": [
       "<IPython.core.display.HTML object>"
      ]
     },
     "metadata": {},
     "output_type": "display_data"
    },
    {
     "name": "stdin",
     "output_type": "stream",
     "text": [
      " q\n"
     ]
    }
   ],
   "source": [
    "\n",
    "# 결과 샘플 보기\n",
    "\n",
    "for p in df_anchor:\n",
    "    sample_mp4 = [f for f in mp4s if Path(f).stem == Path(p).stem[:-4]][0]\n",
    "    print(p)\n",
    "    out_name = f'temp/{Path(p).name}.mp4'\n",
    "    os.makedirs(os.path.dirname(out_name), exist_ok=True)\n",
    "    show_result.write_video(sample_mp4, out_name, p)\n",
    "    show_result.display_video(out_name, width='width=800', other='playbackspeed=1.5')\n",
    "    c = input()\n",
    "    if c == 'q':\n",
    "        break\n",
    "    ipd.clear_output(wait=True)\n"
   ]
  },
  {
   "cell_type": "code",
   "execution_count": null,
   "metadata": {},
   "outputs": [],
   "source": []
  }
 ],
 "metadata": {
  "kernelspec": {
   "display_name": "Python [conda env:stf]",
   "language": "python",
   "name": "conda-env-stf-py"
  },
  "language_info": {
   "codemirror_mode": {
    "name": "ipython",
    "version": 3
   },
   "file_extension": ".py",
   "mimetype": "text/x-python",
   "name": "python",
   "nbconvert_exporter": "python",
   "pygments_lexer": "ipython3",
   "version": "3.7.9"
  },
  "widgets": {
   "application/vnd.jupyter.widget-state+json": {
    "state": {
     "03f525626f1845c697f8b102f21686e5": {
      "model_module": "@jupyter-widgets/base",
      "model_module_version": "1.2.0",
      "model_name": "LayoutModel",
      "state": {}
     },
     "15792a534d3949a38714ca88c140d859": {
      "model_module": "@jupyter-widgets/controls",
      "model_module_version": "1.5.0",
      "model_name": "FloatProgressModel",
      "state": {
       "bar_style": "success",
       "description": "100%",
       "layout": "IPY_MODEL_52440e8b0e874331b20a98d95d2cadc0",
       "max": 565,
       "style": "IPY_MODEL_e3ad718e6ce04bfaaec3f3a5845a346d",
       "value": 565
      }
     },
     "31193232ad0d456a8d59ee8112b0a5f8": {
      "model_module": "@jupyter-widgets/controls",
      "model_module_version": "1.5.0",
      "model_name": "ProgressStyleModel",
      "state": {
       "description_width": "initial"
      }
     },
     "45d1d94d48174e35b303e656234d2c21": {
      "model_module": "@jupyter-widgets/controls",
      "model_module_version": "1.5.0",
      "model_name": "HTMLModel",
      "state": {
       "layout": "IPY_MODEL_eafdec0475a34da6895eca845c7e478a",
       "style": "IPY_MODEL_95d383a65ee84e28a200dadc7260e740",
       "value": " 496/496 [00:00&lt;00:00, 5886.23it/s]"
      }
     },
     "52440e8b0e874331b20a98d95d2cadc0": {
      "model_module": "@jupyter-widgets/base",
      "model_module_version": "1.2.0",
      "model_name": "LayoutModel",
      "state": {}
     },
     "5a246d74a631435db2105e398ce2065a": {
      "model_module": "@jupyter-widgets/controls",
      "model_module_version": "1.5.0",
      "model_name": "HBoxModel",
      "state": {
       "children": [
        "IPY_MODEL_ed014858b29c46f08afa820c87aa7c4f",
        "IPY_MODEL_8cfcbf4636264100a97da0dea0e09e7f"
       ],
       "layout": "IPY_MODEL_6c242a3d304d4b0db3950aca825a6d4c"
      }
     },
     "5b620bbe8afb4ca29d111234fdcb8e9e": {
      "model_module": "@jupyter-widgets/controls",
      "model_module_version": "1.5.0",
      "model_name": "HBoxModel",
      "state": {
       "children": [
        "IPY_MODEL_15792a534d3949a38714ca88c140d859",
        "IPY_MODEL_7b8180a5f0924377b8806f27fccef47b"
       ],
       "layout": "IPY_MODEL_92e9821231c14302880a48e9dd38c6d8"
      }
     },
     "6c242a3d304d4b0db3950aca825a6d4c": {
      "model_module": "@jupyter-widgets/base",
      "model_module_version": "1.2.0",
      "model_name": "LayoutModel",
      "state": {}
     },
     "7b8180a5f0924377b8806f27fccef47b": {
      "model_module": "@jupyter-widgets/controls",
      "model_module_version": "1.5.0",
      "model_name": "HTMLModel",
      "state": {
       "layout": "IPY_MODEL_03f525626f1845c697f8b102f21686e5",
       "style": "IPY_MODEL_87c2fcc56cfc4a5bacd2aa686f6ce888",
       "value": " 565/565 [00:00&lt;00:00, 5998.51it/s]"
      }
     },
     "87c2fcc56cfc4a5bacd2aa686f6ce888": {
      "model_module": "@jupyter-widgets/controls",
      "model_module_version": "1.5.0",
      "model_name": "DescriptionStyleModel",
      "state": {
       "description_width": ""
      }
     },
     "8cfcbf4636264100a97da0dea0e09e7f": {
      "model_module": "@jupyter-widgets/controls",
      "model_module_version": "1.5.0",
      "model_name": "HTMLModel",
      "state": {
       "layout": "IPY_MODEL_a8c680cb9e9146d2be75ee1d4c9cc01f",
       "style": "IPY_MODEL_b94ec99cc4c4499e81a390ed5c871ece",
       "value": " 662/662 [00:00&lt;00:00, 6660.44it/s]"
      }
     },
     "92e9821231c14302880a48e9dd38c6d8": {
      "model_module": "@jupyter-widgets/base",
      "model_module_version": "1.2.0",
      "model_name": "LayoutModel",
      "state": {}
     },
     "95d383a65ee84e28a200dadc7260e740": {
      "model_module": "@jupyter-widgets/controls",
      "model_module_version": "1.5.0",
      "model_name": "DescriptionStyleModel",
      "state": {
       "description_width": ""
      }
     },
     "a5bc41caa5e84cbaaed53a3a5d96d8da": {
      "model_module": "@jupyter-widgets/base",
      "model_module_version": "1.2.0",
      "model_name": "LayoutModel",
      "state": {}
     },
     "a8c680cb9e9146d2be75ee1d4c9cc01f": {
      "model_module": "@jupyter-widgets/base",
      "model_module_version": "1.2.0",
      "model_name": "LayoutModel",
      "state": {}
     },
     "a98e860f0d62429fbe8e18dcd27e0037": {
      "model_module": "@jupyter-widgets/base",
      "model_module_version": "1.2.0",
      "model_name": "LayoutModel",
      "state": {}
     },
     "b94ec99cc4c4499e81a390ed5c871ece": {
      "model_module": "@jupyter-widgets/controls",
      "model_module_version": "1.5.0",
      "model_name": "DescriptionStyleModel",
      "state": {
       "description_width": ""
      }
     },
     "bd1e0f4213d347c6b00a8f1faefbc757": {
      "model_module": "@jupyter-widgets/base",
      "model_module_version": "1.2.0",
      "model_name": "LayoutModel",
      "state": {}
     },
     "c861583d005d4ebe99fe9154c881b22d": {
      "model_module": "@jupyter-widgets/controls",
      "model_module_version": "1.5.0",
      "model_name": "ProgressStyleModel",
      "state": {
       "description_width": "initial"
      }
     },
     "c8b911c3619c46cdb7e88b4162f83c3a": {
      "model_module": "@jupyter-widgets/controls",
      "model_module_version": "1.5.0",
      "model_name": "FloatProgressModel",
      "state": {
       "bar_style": "success",
       "description": "100%",
       "layout": "IPY_MODEL_bd1e0f4213d347c6b00a8f1faefbc757",
       "max": 496,
       "style": "IPY_MODEL_31193232ad0d456a8d59ee8112b0a5f8",
       "value": 496
      }
     },
     "e3ad718e6ce04bfaaec3f3a5845a346d": {
      "model_module": "@jupyter-widgets/controls",
      "model_module_version": "1.5.0",
      "model_name": "ProgressStyleModel",
      "state": {
       "description_width": "initial"
      }
     },
     "e91dd7cf293e4b0d83fc371c73d8b26c": {
      "model_module": "@jupyter-widgets/controls",
      "model_module_version": "1.5.0",
      "model_name": "HBoxModel",
      "state": {
       "children": [
        "IPY_MODEL_c8b911c3619c46cdb7e88b4162f83c3a",
        "IPY_MODEL_45d1d94d48174e35b303e656234d2c21"
       ],
       "layout": "IPY_MODEL_a5bc41caa5e84cbaaed53a3a5d96d8da"
      }
     },
     "eafdec0475a34da6895eca845c7e478a": {
      "model_module": "@jupyter-widgets/base",
      "model_module_version": "1.2.0",
      "model_name": "LayoutModel",
      "state": {}
     },
     "ed014858b29c46f08afa820c87aa7c4f": {
      "model_module": "@jupyter-widgets/controls",
      "model_module_version": "1.5.0",
      "model_name": "FloatProgressModel",
      "state": {
       "bar_style": "success",
       "description": "100%",
       "layout": "IPY_MODEL_a98e860f0d62429fbe8e18dcd27e0037",
       "max": 662,
       "style": "IPY_MODEL_c861583d005d4ebe99fe9154c881b22d",
       "value": 662
      }
     }
    },
    "version_major": 2,
    "version_minor": 0
   }
  }
 },
 "nbformat": 4,
 "nbformat_minor": 4
}
