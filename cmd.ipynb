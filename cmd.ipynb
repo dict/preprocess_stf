{
 "cells": [
  {
   "cell_type": "markdown",
   "metadata": {},
   "source": [
    "# 전처리"
   ]
  },
  {
   "cell_type": "code",
   "execution_count": null,
   "metadata": {},
   "outputs": [],
   "source": [
    "#!rm -rf ./hunet/df_info\n",
    "#!rm -rf ./hunet/preprocess/진지함_수트_정면_000\n",
    "#!rm -rf ./hunet/preprocess/진지함_수트_측면_000"
   ]
  },
  {
   "cell_type": "markdown",
   "metadata": {},
   "source": [
    "# 1. 얼굴 영역을 저장한다"
   ]
  },
  {
   "cell_type": "code",
   "execution_count": null,
   "metadata": {},
   "outputs": [],
   "source": [
    "# parameter\n",
    "# 1 input video 경로\n",
    "# 2 얼굴 영역 정보 저장될 경로\n",
    "# 3 --gpu 1,2,3 : gpu 1,2,3 세개를 사용한다.\n",
    "# 4 --JOB_NUM 3 : 작업 프로세스 개수(동시에 3개가 일을 처리한다. 많으면 좀 더 빨라진다.)\n",
    "# 5 --reference_face ./hunet/hunet.png : 처리할 얼굴 사진 (png, jpg 관계없음)\n",
    "# 6 --stride 30 : 몇 프레임 마다 얼굴을 찾을 것인지 (30 이면 매 30프레임마다 얼굴을 찾는다는 뜻이다.)\n",
    "!python 01-df_anchor_i.py ./hunet/clip ./hunet/df_info --gpu 1,2 --JOB_NUM 2 --reference_face ./hunet/hunet.png --stride 30\n",
    "\n"
   ]
  },
  {
   "cell_type": "markdown",
   "metadata": {},
   "source": [
    "# 2. result.01_df_anchor_i.ipynb 로 결과를 확인한다."
   ]
  },
  {
   "cell_type": "code",
   "execution_count": null,
   "metadata": {},
   "outputs": [],
   "source": [
    "# result.01_df_anchor_i.ipynb 노트북을 여세요~"
   ]
  },
  {
   "cell_type": "markdown",
   "metadata": {},
   "source": [
    "# 3. 얼굴 피쳐포인트를 저장하고, 얼굴 영역을 crop한 이미지를 저장한다."
   ]
  },
  {
   "cell_type": "code",
   "execution_count": null,
   "metadata": {},
   "outputs": [],
   "source": [
    "# parameter\n",
    "# 1 input video 경로\n",
    "# 2 얼굴 정보 저장된 위치 (01-df_anchor_i.py 에서 2번째 파라미터 )\n",
    "# 3 얼굴 피처포인트 저장될 경로\n",
    "# 4 --gpu 1,2,3 : gpu 1,2,3 세개를 사용한다.\n",
    "# 5 --JOB_NUM 3 : 작업 프로세스 개수(동시에 3개가 일을 처리한다. 많으면 좀 더 빨라진다.)\n",
    "!python 02-crop_with_fan.py ./hunet/clip ./hunet/df_info ./hunet/preprocess --gpu 1,2 --JOB_NUM 2\n"
   ]
  },
  {
   "cell_type": "markdown",
   "metadata": {},
   "source": [
    "# 4. 프리프로세싱된 결과 이미지로 debug.mp4 생성"
   ]
  },
  {
   "cell_type": "code",
   "execution_count": null,
   "metadata": {},
   "outputs": [],
   "source": [
    "# parameter\n",
    "# 1 input video 경로\n",
    "# 2 전처리된 위치 정보 (02-crop_with_fan.py 에서 3번째 파라미터 )\n",
    "!python 03-make_debug_mp4.py ./hunet/clip ./hunet/preprocess"
   ]
  },
  {
   "cell_type": "markdown",
   "metadata": {},
   "source": [
    "# 5. result.02_crop_with_fan.ipynb 로 결과를 확인한다."
   ]
  },
  {
   "cell_type": "code",
   "execution_count": null,
   "metadata": {},
   "outputs": [],
   "source": [
    "# result.02_crop_with_fan.ipynb 노트북을 여세요"
   ]
  },
  {
   "cell_type": "markdown",
   "metadata": {},
   "source": [
    "# 6. 오디오 audio -> mel"
   ]
  },
  {
   "cell_type": "code",
   "execution_count": null,
   "metadata": {},
   "outputs": [],
   "source": [
    "# parameter\n",
    "# 1 전처리된 위치 정보 (02-crop_with_fan.py 에서 3번째 파라미터 )\n",
    "!python 04-make_mels.py ./hunet/preprocess"
   ]
  },
  {
   "cell_type": "code",
   "execution_count": null,
   "metadata": {},
   "outputs": [],
   "source": []
  }
 ],
 "metadata": {
  "kernelspec": {
   "display_name": "Python [conda env:lipgan2]",
   "language": "python",
   "name": "conda-env-lipgan2-py"
  },
  "language_info": {
   "codemirror_mode": {
    "name": "ipython",
    "version": 3
   },
   "file_extension": ".py",
   "mimetype": "text/x-python",
   "name": "python",
   "nbconvert_exporter": "python",
   "pygments_lexer": "ipython3",
   "version": "3.7.9"
  }
 },
 "nbformat": 4,
 "nbformat_minor": 5
}
