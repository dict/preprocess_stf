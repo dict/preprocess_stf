{
 "cells": [
  {
   "cell_type": "markdown",
   "id": "ca5f486f-84d6-4e0a-800e-d1878af2e770",
   "metadata": {},
   "source": [
    "# 전처리"
   ]
  },
  {
   "cell_type": "code",
   "execution_count": null,
   "id": "07b4caba-9327-447a-ad3b-e88f6ebd060e",
   "metadata": {},
   "outputs": [],
   "source": [
    "#!rm -rf ./jtbc/df_info\n",
    "#!rm -rf ./jtbc/preprocess"
   ]
  },
  {
   "cell_type": "markdown",
   "id": "71e635f0-8a39-4089-9a5b-392c70ff90b8",
   "metadata": {},
   "source": [
    "# 1. 얼굴 영역을 저장한다"
   ]
  },
  {
   "cell_type": "code",
   "execution_count": null,
   "id": "92b8290f-a5dc-4e73-a27d-901db3a7afc9",
   "metadata": {},
   "outputs": [],
   "source": [
    "!python 01-df_anchor_i.py ./jtbc/clip/강호동 ./jtbc/df_info --gpu 1 --JOB_NUM 1 --reference_face ./jtbc/강호동.jpg --stride 1\n",
    "!python 01-df_anchor_i.py ./jtbc/clip/승희 ./jtbc/df_info --gpu 1 --JOB_NUM 1 --reference_face ./jtbc/승희.jpg --stride 1\n",
    "!python 01-df_anchor_i.py ./jtbc/clip/진호 ./jtbc/df_info --gpu 1 --JOB_NUM 1 --reference_face ./jtbc/진호.jpg --stride 1\n",
    "\n"
   ]
  },
  {
   "cell_type": "markdown",
   "id": "1b524c9a-c26d-4325-a5fc-1c3a4609a97f",
   "metadata": {},
   "source": [
    "# 2. result.01_df_anchor_i.ipynb 로 결과를 확인한다."
   ]
  },
  {
   "cell_type": "code",
   "execution_count": null,
   "id": "0f29a6e4-b941-4b13-92c5-75d3738e8a03",
   "metadata": {},
   "outputs": [],
   "source": [
    "# result.01_df_anchor_i.ipynb 노트북을 여세요~"
   ]
  },
  {
   "cell_type": "markdown",
   "id": "04b0bd88-4b84-488a-abe6-6fe37d5ac073",
   "metadata": {},
   "source": [
    "# 3. 얼굴 피쳐포인트를 저장하고, 얼굴 영역을 crop한 이미지를 저장한다."
   ]
  },
  {
   "cell_type": "code",
   "execution_count": null,
   "id": "373a43da-cfae-4d9c-a88e-97c97d470312",
   "metadata": {},
   "outputs": [],
   "source": [
    "!python 02-crop_with_fan.py ./jtbc/clip ./jtbc/df_info ./jtbc/preprocess --gpu 1 --JOB_NUM 1 --JOB_ID 0\n"
   ]
  },
  {
   "cell_type": "markdown",
   "id": "6e4cff13-516f-46d1-b39b-d3a818113660",
   "metadata": {},
   "source": [
    "# 4. 프리프로세싱된 결과 이미지로 debug.mp4 생성"
   ]
  },
  {
   "cell_type": "code",
   "execution_count": null,
   "id": "e43e3b3e-f888-4d13-a794-f487ea97f17c",
   "metadata": {},
   "outputs": [],
   "source": [
    "!python 03-make_debug_mp4.py ./jtbc/clip ./jtbc/preprocess"
   ]
  },
  {
   "cell_type": "markdown",
   "id": "19e8b35d-4ef8-4370-8cc7-8839a9dd5d61",
   "metadata": {},
   "source": [
    "# 5. result.02_crop_with_fan.ipynb 로 결과를 확인한다."
   ]
  },
  {
   "cell_type": "code",
   "execution_count": null,
   "id": "1badbafb-8bbb-4537-9d8b-4cdab4ff669b",
   "metadata": {},
   "outputs": [],
   "source": [
    "# result.02_crop_with_fan.ipynb 노트북을 여세요"
   ]
  },
  {
   "cell_type": "markdown",
   "id": "eac9f09a-812f-4365-9996-3c2d72aa1f32",
   "metadata": {},
   "source": [
    "# 6. 오디오 audio -> mel"
   ]
  },
  {
   "cell_type": "code",
   "execution_count": null,
   "id": "6de94edf-f618-422c-bc79-9223e0b6dd82",
   "metadata": {},
   "outputs": [],
   "source": [
    "!python 04-make_mels.py ./jtbc/preprocess"
   ]
  },
  {
   "cell_type": "code",
   "execution_count": null,
   "id": "333f2cf5-a63a-4151-8d80-28d898547f0c",
   "metadata": {},
   "outputs": [],
   "source": []
  }
 ],
 "metadata": {
  "kernelspec": {
   "display_name": "Python [conda env:lipgan2]",
   "language": "python",
   "name": "conda-env-lipgan2-py"
  },
  "language_info": {
   "codemirror_mode": {
    "name": "ipython",
    "version": 3
   },
   "file_extension": ".py",
   "mimetype": "text/x-python",
   "name": "python",
   "nbconvert_exporter": "python",
   "pygments_lexer": "ipython3",
   "version": "3.7.9"
  }
 },
 "nbformat": 4,
 "nbformat_minor": 5
}
