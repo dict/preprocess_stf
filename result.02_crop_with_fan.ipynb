{
 "cells": [
  {
   "cell_type": "code",
   "execution_count": null,
   "metadata": {},
   "outputs": [],
   "source": [
    "import show_result"
   ]
  },
  {
   "cell_type": "markdown",
   "metadata": {},
   "source": [
    "## 1. 피클과 동영상 갯수가 동일하고, 원하는 비디오 개수가 맞는지 확인합니다.\n",
    "## 2. error 개수가 0 인 것을 확인합니다."
   ]
  },
  {
   "cell_type": "code",
   "execution_count": null,
   "metadata": {},
   "outputs": [],
   "source": [
    "\n",
    "##################### 여기만 수정하시면 됩니다. ###################\n",
    "root = \"../../dataset/pwb\"   # !!상대경로로 되어있어야 합니다.\n",
    "check_csv = \"check_pwb.csv\"  # 이름을 검수데이터를 의미하는 값으로 변경하세요\n",
    "#################################################################\n",
    "\n",
    "r = show_result.result02_get_counts_all(root)"
   ]
  },
  {
   "cell_type": "markdown",
   "metadata": {},
   "source": [
    "## 3. 프리프로세싱되지 않은 pickle list 하나하나 살펴보기 "
   ]
  },
  {
   "cell_type": "code",
   "execution_count": null,
   "metadata": {},
   "outputs": [],
   "source": [
    "show_result.result02_show_errors(**r)"
   ]
  },
  {
   "cell_type": "markdown",
   "metadata": {},
   "source": [
    "## 4. 문제 없는지 일일이 보면서 검사하기 전체 비디오 검사하기<br> (아래 내용을 참고하시고 더 좋은 기준을 만들어보세요~)\n",
    "1. 입과 소리가 잘 맞는지 확인한다.\n",
    "2. 비디오가 이상한 부분이 없는지 확인한다.\n",
    "3. 특징점이 얼굴위치에 잘 있는지 확인한다.\n",
    "4. 입이 화면의 중앙쯤에 왔는지 본다.\n",
    "\n",
    "### 입력창\n",
    "1. 아래 나타나는 입력박스에 'q'/'Q'/'ㅂ'를 입력하면 비디오 플레이가 검사가 종료됩니다.\n",
    "2. 학습용으로 적합하면 'y'/'Y'/'ㅛ' 를 입력하세요\n",
    "3. 학습용으로 부적합하면 'n'/'N'/'ㅜ' 를 입력하세요\n",
    "\n",
    "### check_csv 파일을 열어서 직접 수정함으로써 잘못 작성된 리뷰 결과를 이후 수정할 수 있습니다."
   ]
  },
  {
   "cell_type": "code",
   "execution_count": null,
   "metadata": {},
   "outputs": [],
   "source": [
    "\n",
    "##############여기를 수정해서 검토에 편이성을 추구하세요 ################\n",
    "playbackrate=1.5 # 비디오 배속을 조정할 수 있습니다.\n",
    "width=600 # 동영상 크기를 수정할 수 있습니다.\n",
    "######################################################################\n",
    "\n",
    "show_result.result02_show_review(**r, playbackrate=playbackrate, width=width, check_csv=check_csv)"
   ]
  }
 ],
 "metadata": {
  "kernelspec": {
   "display_name": "Python [conda env:stf]",
   "language": "python",
   "name": "conda-env-stf-py"
  },
  "language_info": {
   "codemirror_mode": {
    "name": "ipython",
    "version": 3
   },
   "file_extension": ".py",
   "mimetype": "text/x-python",
   "name": "python",
   "nbconvert_exporter": "python",
   "pygments_lexer": "ipython3",
   "version": "3.7.9"
  },
  "widgets": {
   "application/vnd.jupyter.widget-state+json": {
    "state": {},
    "version_major": 2,
    "version_minor": 0
   }
  }
 },
 "nbformat": 4,
 "nbformat_minor": 4
}
