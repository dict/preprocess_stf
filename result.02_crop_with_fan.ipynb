{
 "cells": [
  {
   "cell_type": "code",
   "execution_count": null,
   "metadata": {},
   "outputs": [],
   "source": [
    "from glob import glob\n",
    "from pathlib import Path\n",
    "import show_result \n",
    "import IPython.display as ipd\n",
    "import os\n",
    "import pandas as pd"
   ]
  },
  {
   "cell_type": "markdown",
   "metadata": {},
   "source": [
    "## 1. 피클과 동영상 갯수가 동일하고, 원하는 비디오 개수가 맞는지 확인합니다.\n"
   ]
  },
  {
   "cell_type": "code",
   "execution_count": null,
   "metadata": {},
   "outputs": [],
   "source": [
    "\n",
    "##################### 여기만 수정하시면 됩니다. ###################\n",
    "root = \"../../dataset/pwb\"   # !!상대경로로 되어있어야 합니다.\n",
    "check_csv = \"check_pwb.csv\"  # 이름을 검수데이터를 의미하는 값으로 변경하세요\n",
    "#################################################################\n",
    "\n",
    "\n",
    "\n",
    "mp4s = sorted(glob(f'{root}/clip/*.mp4'))\n",
    "mp4s = {Path(e).stem:e for e in mp4s}\n",
    "\n",
    "anchors = sorted(glob(f'{root}/df_info/df_anchor_i/*.pickle'))\n",
    "anchors = {Path(e).stem: e for e in anchors}\n",
    "\n",
    "ppys = sorted(glob(f'{root}/preprocess/*/df_fan.pickle'))\n",
    "ppys = {Path(e).parent.name:Path(e).parent for e in ppys}\n",
    "\n",
    "print(f'anchors:{len(anchors)}, mp4s:{len(mp4s)}, ppys:{len(ppys)}')"
   ]
  },
  {
   "cell_type": "markdown",
   "metadata": {},
   "source": [
    "## 2. error 개수가 0 인 것을 확인합니다."
   ]
  },
  {
   "cell_type": "code",
   "execution_count": null,
   "metadata": {},
   "outputs": [],
   "source": [
    "# 프리프로세싱되지 않은 pickle list \n",
    "errors = set(anchors.keys()) - set(ppys.keys()) \n",
    "errors = sorted(list(errors))\n",
    "print(len(errors))"
   ]
  },
  {
   "cell_type": "markdown",
   "metadata": {},
   "source": [
    "## 3. 프리프로세싱되지 않은 pickle list 하나하나 살펴보기 "
   ]
  },
  {
   "cell_type": "code",
   "execution_count": null,
   "metadata": {},
   "outputs": [],
   "source": [
    "# 프리프로세싱되지 않은 pickle list 하나하나 살펴보기 \n",
    "for name in errors:\n",
    "    print(name)\n",
    "    df = pd.read_pickle(anchors[name])\n",
    "    display(df.head())\n",
    "    \n",
    "    print('mp4:', mp4s[name[:-4]])\n",
    "    show_result.display_video(mp4s[name[:-4]])\n",
    "    \n",
    "    print('name:', name)\n",
    "    assert(Path(mp4s[name[:-4]]).exists())\n",
    "    if input() == 'q':\n",
    "        break\n",
    "    ipd.clear_output(wait=True)"
   ]
  },
  {
   "cell_type": "markdown",
   "metadata": {},
   "source": [
    "## 4. 문제 없는지 일일이 보면서 검사하기 전체 비디오 검사하기\n",
    "1. 입과 소리가 잘 맞는지 확인한다.\n",
    "2. 비디오가 이상한 부분이 없는지 확인한다.\n",
    "3. 특징점이 얼굴위치에 잘 있는지 확인한다.\n",
    "4. 입이 화면의 중앙쯤에 왔는지 본다.\n",
    "\n",
    "##### 아래 나타나는 입력박스에 'q'를 입력하면 비디오 플레이가 검사가 종료됩니다."
   ]
  },
  {
   "cell_type": "code",
   "execution_count": null,
   "metadata": {},
   "outputs": [],
   "source": [
    "    \n",
    "for i, (name, clip) in enumerate(ppys.items()):\n",
    "    print('i:', i)\n",
    "    try:\n",
    "        df = pd.read_csv(check_csv)\n",
    "    except:\n",
    "        df = pd.DataFrame([], columns=['clip', 'status'])\n",
    "    \n",
    "    if name in df['clip'].values:\n",
    "        continue\n",
    "    \n",
    "    display(df.tail(3))\n",
    "    \n",
    "    cs = pd.read_pickle(clip/'df_fan.pickle')['cropped_size'].values[0]\n",
    "    \n",
    "    print(f'{(len(df), i)}/{len(ppys)}: name({name}), cropped_size({cs}px)')\n",
    "    show_result.display_video(clip/'debug.mp4', width='width=600', playbackrate=1.5)\n",
    "    c = input()\n",
    "    if c == 'q':\n",
    "        break\n",
    "        \n",
    "    checks = {'y':'yes', 'n':'no', 'ㅛ':'yes', 'ㅜ':'no'}\n",
    "    if c in checks:\n",
    "        status = checks[c]\n",
    "    else:\n",
    "        status = None \n",
    "        \n",
    "    df = df.append({'clip':name, 'status': status}, ignore_index=True)\n",
    "    \n",
    "    df.to_csv(check_csv, index=False)\n",
    "    ipd.clear_output(wait=True)"
   ]
  }
 ],
 "metadata": {
  "kernelspec": {
   "display_name": "Python [conda env:stf]",
   "language": "python",
   "name": "conda-env-stf-py"
  },
  "language_info": {
   "codemirror_mode": {
    "name": "ipython",
    "version": 3
   },
   "file_extension": ".py",
   "mimetype": "text/x-python",
   "name": "python",
   "nbconvert_exporter": "python",
   "pygments_lexer": "ipython3",
   "version": "3.7.9"
  },
  "widgets": {
   "application/vnd.jupyter.widget-state+json": {
    "state": {},
    "version_major": 2,
    "version_minor": 0
   }
  }
 },
 "nbformat": 4,
 "nbformat_minor": 4
}
