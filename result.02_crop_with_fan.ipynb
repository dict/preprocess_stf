{
 "cells": [
  {
   "cell_type": "code",
   "execution_count": null,
   "metadata": {},
   "outputs": [],
   "source": [
    "\n",
    "%env CUDA_DEVICE_ORDER=PCI_BUS_ID\n",
    "%env CUDA_VISIBLE_DEVICES=0\n",
    "\n",
    "%reload_ext autoreload\n",
    "%autoreload 2\n",
    "\n",
    "from glob import glob\n",
    "from pathlib import Path\n",
    "import pandas as pd\n",
    "from tqdm.auto import tqdm\n",
    "from IPython.display import HTML, clear_output\n",
    "\n",
    "\n",
    "def display_video(p, width='width=640'):\n",
    "    html = f\"\"\"<video src = \"{p}\" {width} controls autoplay/>\"\"\"\n",
    "    display(HTML(html))\n",
    "    \n",
    "mp4s = sorted(glob('khd/clip/*.mp4'))\n",
    "mp4s = {Path(e).stem:e for e in mp4s}\n",
    "\n",
    "anchors = sorted(glob('./khd/df_info/df_anchor_i/*.pickle'))\n",
    "anchors = {Path(e).stem: e for e in anchors}\n",
    "\n",
    "ppys = sorted(glob('./khd/preprocess/*/df_fan.pickle'))\n",
    "ppys = {Path(e).parent.name:Path(e).parent for e in ppys}\n",
    "\n",
    "print(f'anchors:{len(anchors)}, mp4s:{len(mp4s)}, ppys:{len(ppys)}')\n"
   ]
  },
  {
   "cell_type": "code",
   "execution_count": null,
   "metadata": {},
   "outputs": [],
   "source": [
    "# 프리프로세싱되지 않은 pickle list \n",
    "errors = set(anchors.keys()) - set(ppys.keys()) \n",
    "errors = sorted(list(errors))\n",
    "print(len(errors))\n",
    "\n",
    "#list(ppys.keys())[0], ppys[list(ppys.keys())[0]]"
   ]
  },
  {
   "cell_type": "code",
   "execution_count": null,
   "metadata": {},
   "outputs": [],
   "source": [
    "from pathlib import Path\n",
    "import pdb\n",
    "\n",
    "# 프리프로세싱되지 않은 pickle list 하나하나 살펴보기 \n",
    "#for name in errors:\n",
    "#    print(name)\n",
    "#    df = pd.read_pickle(anchors[name])\n",
    "#    display(df)\n",
    "#    \n",
    "#    print(mp4s[name[:-4]])\n",
    "#    display_video(mp4s[name[:-4]])\n",
    "#    \n",
    "#    print(name)\n",
    "#    assert(Path(mp4s[name[:-4]]).exists())\n",
    "#    if input() == 'q':\n",
    "#        break\n",
    "#    clear_output(wait=True)"
   ]
  },
  {
   "cell_type": "code",
   "execution_count": null,
   "metadata": {},
   "outputs": [],
   "source": [
    "from utils import crop_with_fan as cwf\n",
    "from utils import face_finder as ff\n",
    "\n",
    "l = list(ppys.items())\n",
    "name, clip = l[0]\n",
    "print(name, clip)\n",
    "\n",
    "meta = ff.video_meta(mp4s[name[:-4]])\n",
    "clip, meta['fps']"
   ]
  },
  {
   "cell_type": "code",
   "execution_count": null,
   "metadata": {},
   "outputs": [],
   "source": [
    "from pathlib import Path\n",
    "import pdb\n",
    "import imageio\n",
    "import cv2\n",
    "import numpy as np\n",
    "import imageio_ffmpeg\n",
    "import os\n",
    "\n"
   ]
  },
  {
   "cell_type": "code",
   "execution_count": null,
   "metadata": {},
   "outputs": [],
   "source": []
  },
  {
   "cell_type": "code",
   "execution_count": null,
   "metadata": {},
   "outputs": [],
   "source": [
    "# 문제 없는지 일일이 보면서 검사하기\n",
    "import os\n",
    "from pathlib import Path\n",
    "#if Path('checked.csv').exists():  \n",
    "#    os.remove('checked.csv')\n",
    "\n",
    "for i, (name, clip) in enumerate(ppys.items()):\n",
    "    print('i:', i)\n",
    "    try:\n",
    "        df = pd.read_csv('checked_template_fhd.csv')\n",
    "    except:\n",
    "        df = pd.DataFrame([], columns=['clip', 'status'])\n",
    "    \n",
    "    if name in df['clip'].values:\n",
    "        continue\n",
    "    \n",
    "    display(df.tail(3))\n",
    "    \n",
    "    cs = pd.read_pickle(clip/'df_fan.pickle')['cropped_size'].values[0]\n",
    "    \n",
    "    display_video(clip/'debug.mp4', width='width=640')\n",
    "    print(f'{(len(df), i)}/{len(ppys)}: name({name}), cropped_size({cs}px)')\n",
    "    c = input()\n",
    "    if c == 'q':\n",
    "        break\n",
    "        \n",
    "    checks = {'y':'yes', 'n':'no'}\n",
    "    if c in checks:\n",
    "        status = checks[c]\n",
    "    else:\n",
    "        status = None \n",
    "        \n",
    "    df = df.append({'clip':name, 'status': status}, ignore_index=True)\n",
    "    \n",
    "    df.to_csv('checked_220208.csv', index=False)\n",
    "    clear_output(wait=True)"
   ]
  },
  {
   "cell_type": "code",
   "execution_count": null,
   "metadata": {},
   "outputs": [],
   "source": [
    "df['status'].value_counts(dropna=False)"
   ]
  },
  {
   "cell_type": "code",
   "execution_count": null,
   "metadata": {},
   "outputs": [],
   "source": [
    "\"\"\" 0으로 시작하지 않는 영상이 있는지 검사\"\"\"\n",
    "clips = glob('preprocessed_ytn/*')\n",
    "\n",
    "len_zeros = []\n",
    "for clip in clips:\n",
    "    name = Path(clip).name\n",
    "    pngs = sorted(glob(clip + '/*.png'))\n",
    "    if len(pngs) == 0:\n",
    "        len_zeros.append(name)\n",
    "        continue\n",
    "    min_idx = int(pngs[0].split('/')[-1].split('_')[0])\n",
    "    if min_idx == 0:\n",
    "        continue\n",
    "    print(name, min_idx)\n",
    "    \n",
    "print('\\nlen_zeros:')\n",
    "for e in len_zeros:\n",
    "    print(e)"
   ]
  },
  {
   "cell_type": "code",
   "execution_count": null,
   "metadata": {},
   "outputs": [],
   "source": []
  }
 ],
 "metadata": {
  "kernelspec": {
   "display_name": "Python [conda env:lipgan2]",
   "language": "python",
   "name": "conda-env-lipgan2-py"
  },
  "language_info": {
   "codemirror_mode": {
    "name": "ipython",
    "version": 3
   },
   "file_extension": ".py",
   "mimetype": "text/x-python",
   "name": "python",
   "nbconvert_exporter": "python",
   "pygments_lexer": "ipython3",
   "version": "3.7.9"
  },
  "widgets": {
   "application/vnd.jupyter.widget-state+json": {
    "state": {},
    "version_major": 2,
    "version_minor": 0
   }
  }
 },
 "nbformat": 4,
 "nbformat_minor": 4
}
