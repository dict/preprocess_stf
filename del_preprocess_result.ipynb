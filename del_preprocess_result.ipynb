{
 "cells": [
  {
   "cell_type": "code",
   "execution_count": null,
   "id": "f40644d8-8748-49c3-8613-5262ef9f57d9",
   "metadata": {},
   "outputs": [],
   "source": [
    "import os"
   ]
  },
  {
   "cell_type": "code",
   "execution_count": null,
   "id": "a60da0dd-f7dc-48fc-b5b9-d40858f2101d",
   "metadata": {},
   "outputs": [],
   "source": [
    "############## 여기를 수정하세요 ########################\n",
    "root=\"/data/home/gomthing/dataset/kimyiso\"\n",
    "del_video_names = ['20m_1_021', '20m_3_027']\n",
    "########################################################"
   ]
  },
  {
   "cell_type": "markdown",
   "id": "11d59aab-a2cb-4479-8d57-c8532fcfc917",
   "metadata": {},
   "source": [
    "# 지워질 파일/디렉토리 목록이 맞는지 확인하세요"
   ]
  },
  {
   "cell_type": "code",
   "execution_count": null,
   "id": "956e6b5b-e49f-4955-b82f-bad7bb174293",
   "metadata": {},
   "outputs": [],
   "source": [
    "for f in del_video_names:\n",
    "    print('===============', f, '===================')\n",
    "    print('* croped dir')\n",
    "    !ls -d $root/preprocess/$f*\n",
    "    print('* face box')\n",
    "    !ls -d $root/df_info/df_anchor_i/$f*\n",
    "    print('* face land marks')\n",
    "    !ls -d $root/df_info/df_face_info/$f*\n",
    "    \n",
    "    "
   ]
  },
  {
   "cell_type": "markdown",
   "id": "a6abc583-0bd7-4c64-ac17-e81e9c6dab9b",
   "metadata": {},
   "source": [
    "# 정말 삭제합니다."
   ]
  },
  {
   "cell_type": "code",
   "execution_count": null,
   "id": "3813a36f-724d-4822-89de-f1939b5c8cbd",
   "metadata": {},
   "outputs": [],
   "source": [
    "\n",
    "for f in del_video_names:\n",
    "    !rm -rf $root/preprocess/$f*\n",
    "    !rm -rf $root/df_info/df_anchor_i/$f*\n",
    "    !rm -rf $root/df_info/df_face_info/$f*\n",
    "    "
   ]
  },
  {
   "cell_type": "code",
   "execution_count": null,
   "id": "200ac96e-187a-4e64-b372-cff9b6450ca2",
   "metadata": {},
   "outputs": [],
   "source": []
  }
 ],
 "metadata": {
  "kernelspec": {
   "display_name": "Python [conda env:stf]",
   "language": "python",
   "name": "conda-env-stf-py"
  },
  "language_info": {
   "codemirror_mode": {
    "name": "ipython",
    "version": 3
   },
   "file_extension": ".py",
   "mimetype": "text/x-python",
   "name": "python",
   "nbconvert_exporter": "python",
   "pygments_lexer": "ipython3",
   "version": "3.7.9"
  }
 },
 "nbformat": 4,
 "nbformat_minor": 5
}
