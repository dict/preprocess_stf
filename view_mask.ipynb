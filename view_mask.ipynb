{
 "cells": [
  {
   "cell_type": "code",
   "execution_count": null,
   "metadata": {},
   "outputs": [],
   "source": [
    "%reload_ext autoreload\n",
    "%autoreload 2\n",
    "\n",
    "from glob import glob\n",
    "import random\n",
    "import pandas as pd\n",
    "from pathlib import Path\n",
    "import sys\n",
    "sys.path.append('src')\n",
    "import src.datagen_aug as dg\n",
    "import cv2\n",
    "from PIL import Image\n",
    "jpgs =[]\n",
    "#jpgs  += glob('./parkunbo/preprocessed_pwb_3/**/*.jpg', recursive=True)\n",
    "#jpgs  += glob('./hunet/preprocessed_hunet/Est_Soft_01_1.mov.03-16.ss-01-28.to-02-02_000/*.jpg', recursive=True)\n",
    "jpgs  += glob('./hunet/preprocess/손동작_사복_측면_000/*.jpg', recursive=True)\n",
    "print(len(jpgs))\n",
    "#jpgs  += glob('./hunet/preprocessed_hunet/Est_Soft_01_1.mov.00-16.ss-00-00.to-00-32_000/*.jpg', recursive=True)\n",
    "\n",
    "#front_jpgs  = glob('./parkunbo/preprocessed_pwb_2/12_#2_thursday_02.00_30_000/*.jpg')\n",
    "len(jpgs)"
   ]
  },
  {
   "cell_type": "code",
   "execution_count": null,
   "metadata": {},
   "outputs": [],
   "source": [
    "front = jpgs\n",
    "side = jpgs\n",
    "len(front), len(side)"
   ]
  },
  {
   "cell_type": "code",
   "execution_count": null,
   "metadata": {},
   "outputs": [],
   "source": [
    "from src.mask_history import calc_poly\n",
    "\n",
    "def mask_img(jpg, mask_ver, randomness):\n",
    "    img_gt = cv2.imread(jpg)\n",
    "    sidx = int(Path(jpg).stem.split('_')[0])\n",
    "    preds = dg.LipGanDS.read_pickle(None, Path(jpg).parent)\n",
    "    pts = calc_poly[mask_ver](preds[sidx], img_gt.shape[0], randomness=randomness)\n",
    "    masked = dg.masking(img_gt.copy(), pts)\n",
    "    return img_gt[:,:,[2,1,0]], masked[:,:,[2,1,0]]\n",
    "    \n",
    "def show_mask(jpg, mask_ver, randomness=True):\n",
    "    img_gt, masked = mask_img(jpg, mask_ver=mask_ver, randomness=randomness)\n",
    "    img_gt = Image.fromarray(img_gt)\n",
    "    masked = Image.fromarray(masked)\n",
    "    img_gt.thumbnail((300, 300))\n",
    "    masked.thumbnail((300, 300))\n",
    "    display(img_gt)\n",
    "    display(masked)\n",
    "    #print(img_gt.size)\n",
    "    #print(jpg)\n",
    "    \n",
    "mask_ver = 9\n",
    "#mask_ver = 'pwb_front_v39_1'\n",
    "mask_ver = 'pwb_side_v39_12'\n",
    "\n",
    "\n",
    "\n",
    "show_mask(random.choice(side), mask_ver=mask_ver, randomness=True )\n",
    "\n",
    "#mask_ver = 'pwb_front_v39_1'\n",
    "#show_mask(random.choice(front), mask_ver=mask_ver, randomness=True )\n",
    "#show_mask(random.choice(front), randomness=False )"
   ]
  },
  {
   "cell_type": "code",
   "execution_count": null,
   "metadata": {},
   "outputs": [],
   "source": []
  },
  {
   "cell_type": "code",
   "execution_count": null,
   "metadata": {},
   "outputs": [],
   "source": []
  },
  {
   "cell_type": "code",
   "execution_count": null,
   "metadata": {},
   "outputs": [],
   "source": [
    "from tqdm.auto import tqdm\n",
    "\n",
    "videos  = glob('./hunet/preprocess/*측면*')\n",
    "v = random.choice(videos)\n",
    "print(v)\n",
    "video_jpgs = sorted(glob(f'{v}/*.jpg', recursive=True))\n",
    "print(video_jpgs[0])\n",
    "\n",
    "video_jpgs = sorted(video_jpgs)\n",
    "mask_ver = 'pwb_side_v39_12'\n",
    "masked = [mask_img(e, mask_ver=mask_ver, randomness=False)[1] for e in tqdm(video_jpgs)]"
   ]
  },
  {
   "cell_type": "code",
   "execution_count": null,
   "metadata": {},
   "outputs": [],
   "source": [
    "import moviepy.editor as mpe\n",
    "import IPython.display as ipd\n",
    "vc = mpe.ImageSequenceClip(masked, fps=29.97)\n",
    "vc.write_videofile('temp.mp4', logger=None)"
   ]
  },
  {
   "cell_type": "code",
   "execution_count": null,
   "metadata": {},
   "outputs": [],
   "source": [
    "ipd.HTML(\"\"\"<video src=\"temp.mp4\" controls/>\"\"\")"
   ]
  },
  {
   "cell_type": "code",
   "execution_count": null,
   "metadata": {},
   "outputs": [],
   "source": [
    "#!pip install ipywidgets"
   ]
  },
  {
   "cell_type": "code",
   "execution_count": null,
   "metadata": {},
   "outputs": [],
   "source": []
  }
 ],
 "metadata": {
  "kernelspec": {
   "display_name": "Python [conda env:lipgan2]",
   "language": "python",
   "name": "conda-env-lipgan2-py"
  },
  "language_info": {
   "codemirror_mode": {
    "name": "ipython",
    "version": 3
   },
   "file_extension": ".py",
   "mimetype": "text/x-python",
   "name": "python",
   "nbconvert_exporter": "python",
   "pygments_lexer": "ipython3",
   "version": "3.7.9"
  }
 },
 "nbformat": 4,
 "nbformat_minor": 5
}
